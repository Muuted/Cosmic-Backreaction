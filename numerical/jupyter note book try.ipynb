{
 "cells": [
  {
   "cell_type": "code",
   "execution_count": 122,
   "metadata": {
    "collapsed": true
   },
   "outputs": [],
   "source": [
    "import sympy as smp\n",
    "import numpy as np\n",
    "import scipy as sc\n",
    "\n",
    "t = smp.symbols('t')"
   ]
  },
  {
   "cell_type": "code",
   "execution_count": 123,
   "outputs": [
    {
     "data": {
      "text/plain": "f(t)",
      "text/latex": "$\\displaystyle f{\\left(t \\right)}$"
     },
     "execution_count": 123,
     "metadata": {},
     "output_type": "execute_result"
    }
   ],
   "source": [
    "f = smp.Function('f')(t)\n",
    "#f = t**2\n",
    "f"
   ],
   "metadata": {
    "collapsed": false,
    "pycharm": {
     "name": "#%%\n"
    }
   }
  },
  {
   "cell_type": "code",
   "execution_count": 124,
   "outputs": [
    {
     "data": {
      "text/plain": "Derivative(f(t), t)",
      "text/latex": "$\\displaystyle \\frac{d}{d t} f{\\left(t \\right)}$"
     },
     "execution_count": 124,
     "metadata": {},
     "output_type": "execute_result"
    }
   ],
   "source": [
    "g = smp.diff(f,t)\n",
    "g"
   ],
   "metadata": {
    "collapsed": false,
    "pycharm": {
     "name": "#%%\n"
    }
   }
  },
  {
   "cell_type": "code",
   "execution_count": 125,
   "outputs": [
    {
     "data": {
      "text/plain": "f(t)",
      "text/latex": "$\\displaystyle f{\\left(t \\right)}$"
     },
     "execution_count": 125,
     "metadata": {},
     "output_type": "execute_result"
    }
   ],
   "source": [
    "smp.integrate(g,t)"
   ],
   "metadata": {
    "collapsed": false,
    "pycharm": {
     "name": "#%%\n"
    }
   }
  },
  {
   "cell_type": "code",
   "execution_count": 126,
   "outputs": [
    {
     "data": {
      "text/plain": "-(x**2 - 100)*(x**2 - 1)*exp(-x**2/2)/10 + 10",
      "text/latex": "$\\displaystyle - \\frac{\\left(x^{2} - 100\\right) \\left(x^{2} - 1\\right) e^{- \\frac{x^{2}}{2}}}{10} + 10$"
     },
     "execution_count": 126,
     "metadata": {},
     "output_type": "execute_result"
    }
   ],
   "source": [
    "'''\n",
    "This next part is trying to solve the integral we found for rho\n",
    "on the 07/04/2022\n",
    "'''\n",
    "# this makes x a symbol / variable\n",
    "x = smp.symbols('x')\n",
    "\n",
    "#this makes it so that h is understood as a function\n",
    "h = smp.Function('h')(x)\n",
    "#defining the parameters,/ constants\n",
    "b = 10\n",
    "E = 10\n",
    "\n",
    "# defining the function that we need\n",
    "h= -smp.exp(-x**2/2)*(x**2-1)*(x**2-b*E)/b + E\n",
    "h"
   ],
   "metadata": {
    "collapsed": false,
    "pycharm": {
     "name": "#%%\n"
    }
   }
  },
  {
   "cell_type": "code",
   "execution_count": 127,
   "outputs": [
    {
     "data": {
      "text/plain": "10.0"
     },
     "execution_count": 127,
     "metadata": {},
     "output_type": "execute_result"
    }
   ],
   "source": [
    "# this \"lambdafies\" the function meaning that i makes it a function\n",
    "# that takes in values and outputs values, it didnt before as it was more of\n",
    "# a symbolic function\n",
    "H = smp.lambdify(x,h)\n",
    "H(1)"
   ],
   "metadata": {
    "collapsed": false,
    "pycharm": {
     "name": "#%%\n"
    }
   }
  },
  {
   "cell_type": "code",
   "execution_count": 131,
   "outputs": [
    {
     "data": {
      "text/plain": "99.74933715896451"
     },
     "execution_count": 131,
     "metadata": {},
     "output_type": "execute_result"
    }
   ],
   "source": [
    "# Now that H is a lambda function we want to define a function\n",
    "# that is not nessaracly needed but it might if we have more functions\n",
    "\n",
    "from scipy.integrate import quad\n",
    "#def integrand(l):\n",
    "#    return H(l)\n",
    "\n",
    "\n",
    "I = quad(H,-10,10)\n",
    "I[0]-I[1]"
   ],
   "metadata": {
    "collapsed": false,
    "pycharm": {
     "name": "#%%\n"
    }
   }
  },
  {
   "cell_type": "code",
   "execution_count": 133,
   "outputs": [
    {
     "data": {
      "text/plain": "199.99999999999778"
     },
     "execution_count": 133,
     "metadata": {},
     "output_type": "execute_result"
    }
   ],
   "source": [
    "I = quad(H,10,30)\n",
    "I[0]-I[1]"
   ],
   "metadata": {
    "collapsed": false,
    "pycharm": {
     "name": "#%%\n"
    }
   }
  }
 ],
 "metadata": {
  "kernelspec": {
   "display_name": "Python 3",
   "language": "python",
   "name": "python3"
  },
  "language_info": {
   "codemirror_mode": {
    "name": "ipython",
    "version": 2
   },
   "file_extension": ".py",
   "mimetype": "text/x-python",
   "name": "python",
   "nbconvert_exporter": "python",
   "pygments_lexer": "ipython2",
   "version": "2.7.6"
  }
 },
 "nbformat": 4,
 "nbformat_minor": 0
}