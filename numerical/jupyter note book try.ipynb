{
 "cells": [
  {
   "cell_type": "code",
   "execution_count": 1,
   "metadata": {
    "collapsed": true
   },
   "outputs": [],
   "source": [
    "import sympy as smp\n",
    "import numpy as np\n",
    "import scipy as sc\n",
    "\n",
    "t = smp.symbols('t')"
   ]
  },
  {
   "cell_type": "code",
   "execution_count": 2,
   "metadata": {
    "collapsed": false,
    "pycharm": {
     "name": "#%%\n"
    }
   },
   "outputs": [
    {
     "data": {
      "text/plain": "t**2",
      "text/latex": "$\\displaystyle t^{2}$"
     },
     "execution_count": 2,
     "metadata": {},
     "output_type": "execute_result"
    }
   ],
   "source": [
    "#something, dunno\n",
    "# does this work well or what?\n",
    "k = smp.Function('k')(t)\n",
    "k = t**2\n",
    "k"
   ]
  },
  {
   "cell_type": "code",
   "execution_count": 3,
   "metadata": {
    "collapsed": false,
    "pycharm": {
     "name": "#%%\n"
    }
   },
   "outputs": [
    {
     "data": {
      "text/plain": "2*t",
      "text/latex": "$\\displaystyle 2 t$"
     },
     "execution_count": 3,
     "metadata": {},
     "output_type": "execute_result"
    }
   ],
   "source": [
    "g = smp.diff(k,t)\n",
    "g"
   ]
  },
  {
   "cell_type": "code",
   "execution_count": 4,
   "metadata": {
    "collapsed": false,
    "pycharm": {
     "name": "#%%\n"
    }
   },
   "outputs": [
    {
     "data": {
      "text/plain": "t**2",
      "text/latex": "$\\displaystyle t^{2}$"
     },
     "execution_count": 4,
     "metadata": {},
     "output_type": "execute_result"
    }
   ],
   "source": [
    "smp.integrate(g,t)"
   ]
  },
  {
   "cell_type": "code",
   "execution_count": 5,
   "metadata": {
    "collapsed": false,
    "pycharm": {
     "name": "#%%\n"
    }
   },
   "outputs": [
    {
     "data": {
      "text/plain": "-(x**2 - 100)*(x**2 - 1)*exp(-x**2/2)/10 + 10",
      "text/latex": "$\\displaystyle - \\frac{\\left(x^{2} - 100\\right) \\left(x^{2} - 1\\right) e^{- \\frac{x^{2}}{2}}}{10} + 10$"
     },
     "execution_count": 5,
     "metadata": {},
     "output_type": "execute_result"
    }
   ],
   "source": [
    "'''\n",
    "This next part is trying to solve the integral we found for rho\n",
    "on the 07/04/2022\n",
    "'''\n",
    "# this makes x a symbol / variable\n",
    "x = smp.symbols('x')\n",
    "\n",
    "#this makes it so that h is understood as a function\n",
    "h = smp.Function('h')(x)\n",
    "#defining the parameters,/ constants\n",
    "b = 10\n",
    "E = 10\n",
    "\n",
    "# defining the function that we need\n",
    "h= -smp.exp(-x**2/2)*(x**2-1)*(x**2-b*E)/b + E\n",
    "h"
   ]
  },
  {
   "cell_type": "code",
   "execution_count": 6,
   "metadata": {
    "collapsed": false,
    "pycharm": {
     "name": "#%%\n"
    }
   },
   "outputs": [
    {
     "data": {
      "text/plain": "10.0"
     },
     "execution_count": 6,
     "metadata": {},
     "output_type": "execute_result"
    }
   ],
   "source": [
    "# this \"lambdafies\" the function meaning that i makes it a function\n",
    "# that takes in values and outputs values, it didnt before as it was more of\n",
    "# a symbolic function\n",
    "H = smp.lambdify(x,h)\n",
    "H(1)"
   ]
  },
  {
   "cell_type": "code",
   "execution_count": 7,
   "metadata": {
    "collapsed": false,
    "pycharm": {
     "name": "#%%\n"
    }
   },
   "outputs": [
    {
     "data": {
      "text/plain": "199.498674317929"
     },
     "execution_count": 7,
     "metadata": {},
     "output_type": "execute_result"
    }
   ],
   "source": [
    "# Now that H is a lambda function we want to define a function\n",
    "# that is not nessaracly needed but it might if we have more functions\n",
    "\n",
    "from scipy.integrate import quad\n",
    "#def integrand(l):\n",
    "#    return H(l)\n",
    "\n",
    "\n",
    "I = quad(H,-10,10)\n",
    "I[0]-I[1]"
   ]
  },
  {
   "cell_type": "code",
   "execution_count": 8,
   "metadata": {
    "collapsed": false,
    "pycharm": {
     "name": "#%%\n"
    }
   },
   "outputs": [
    {
     "data": {
      "text/plain": "199.99999999999778"
     },
     "execution_count": 8,
     "metadata": {},
     "output_type": "execute_result"
    }
   ],
   "source": [
    "I = quad(H,10,30)\n",
    "I[0]-I[1]"
   ]
  }
 ],
 "metadata": {
  "kernelspec": {
   "display_name": "Python 3",
   "language": "python",
   "name": "python3"
  },
  "language_info": {
   "codemirror_mode": {
    "name": "ipython",
    "version": 3
   },
   "file_extension": ".py",
   "mimetype": "text/x-python",
   "name": "python",
   "nbconvert_exporter": "python",
   "pygments_lexer": "ipython3",
   "version": "3.9.2"
  }
 },
 "nbformat": 4,
 "nbformat_minor": 0
}