{
 "cells": [
  {
   "cell_type": "code",
   "execution_count": 22,
   "metadata": {
    "collapsed": true
   },
   "outputs": [
    {
     "data": {
      "text/plain": "Y(t)",
      "text/latex": "$\\displaystyle Y{\\left(t \\right)}$"
     },
     "execution_count": 22,
     "metadata": {},
     "output_type": "execute_result"
    }
   ],
   "source": [
    "import sympy as smp\n",
    "import scipy as sc\n",
    "\n",
    "\n",
    "E,M,A,t,r = smp.symbols('E M A t r')\n",
    "\n",
    "Y,X,R = smp.symbols('Y X R',cls=smp.Function)\n",
    "Y = Y(t)\n",
    "X = X(r)\n",
    "Y"
   ]
  },
  {
   "cell_type": "code",
   "execution_count": 23,
   "outputs": [
    {
     "data": {
      "text/plain": "X(r)",
      "text/latex": "$\\displaystyle X{\\left(r \\right)}$"
     },
     "execution_count": 23,
     "metadata": {},
     "output_type": "execute_result"
    }
   ],
   "source": [
    "X"
   ],
   "metadata": {
    "collapsed": false,
    "pycharm": {
     "name": "#%%\n"
    }
   }
  },
  {
   "cell_type": "code",
   "execution_count": 24,
   "outputs": [
    {
     "data": {
      "text/plain": "X(r)*Y(t)",
      "text/latex": "$\\displaystyle X{\\left(r \\right)} Y{\\left(t \\right)}$"
     },
     "execution_count": 24,
     "metadata": {},
     "output_type": "execute_result"
    }
   ],
   "source": [
    "R = Y*X\n",
    "R"
   ],
   "metadata": {
    "collapsed": false,
    "pycharm": {
     "name": "#%%\n"
    }
   }
  },
  {
   "cell_type": "code",
   "execution_count": 25,
   "outputs": [
    {
     "data": {
      "text/plain": "-sqrt(A*X(r)**2*Y(t)**2/3 + 2*E + 2*M/(X(r)*Y(t))) + X(r)*Derivative(Y(t), t)",
      "text/latex": "$\\displaystyle - \\sqrt{\\frac{A X^{2}{\\left(r \\right)} Y^{2}{\\left(t \\right)}}{3} + 2 E + \\frac{2 M}{X{\\left(r \\right)} Y{\\left(t \\right)}}} + X{\\left(r \\right)} \\frac{d}{d t} Y{\\left(t \\right)}$"
     },
     "execution_count": 25,
     "metadata": {},
     "output_type": "execute_result"
    }
   ],
   "source": [
    "H = smp.diff(R,t) - smp.sqrt( 2*E +2*M/R + A*R**2/3)\n",
    "H"
   ],
   "metadata": {
    "collapsed": false,
    "pycharm": {
     "name": "#%%\n"
    }
   }
  },
  {
   "cell_type": "code",
   "execution_count": 26,
   "outputs": [
    {
     "data": {
      "text/plain": "-(-1/2 - sqrt(3)*I/2)*(sqrt(26244*M**2/(A**2*X(r)**6) + 108*(6*E - 3*X(r)**2*Derivative(Y(t), t)**2)**3/(A**3*X(r)**6))/2 + 81*M/(A*X(r)**3))**(1/3)/3 + (6*E - 3*X(r)**2*Derivative(Y(t), t)**2)/(A*(-1/2 - sqrt(3)*I/2)*(sqrt(26244*M**2/(A**2*X(r)**6) + 108*(6*E - 3*X(r)**2*Derivative(Y(t), t)**2)**3/(A**3*X(r)**6))/2 + 81*M/(A*X(r)**3))**(1/3)*X(r)**2)",
      "text/latex": "$\\displaystyle - \\frac{\\left(- \\frac{1}{2} - \\frac{\\sqrt{3} i}{2}\\right) \\sqrt[3]{\\frac{\\sqrt{\\frac{26244 M^{2}}{A^{2} X^{6}{\\left(r \\right)}} + \\frac{108 \\left(6 E - 3 X^{2}{\\left(r \\right)} \\left(\\frac{d}{d t} Y{\\left(t \\right)}\\right)^{2}\\right)^{3}}{A^{3} X^{6}{\\left(r \\right)}}}}{2} + \\frac{81 M}{A X^{3}{\\left(r \\right)}}}}{3} + \\frac{6 E - 3 X^{2}{\\left(r \\right)} \\left(\\frac{d}{d t} Y{\\left(t \\right)}\\right)^{2}}{A \\left(- \\frac{1}{2} - \\frac{\\sqrt{3} i}{2}\\right) \\sqrt[3]{\\frac{\\sqrt{\\frac{26244 M^{2}}{A^{2} X^{6}{\\left(r \\right)}} + \\frac{108 \\left(6 E - 3 X^{2}{\\left(r \\right)} \\left(\\frac{d}{d t} Y{\\left(t \\right)}\\right)^{2}\\right)^{3}}{A^{3} X^{6}{\\left(r \\right)}}}}{2} + \\frac{81 M}{A X^{3}{\\left(r \\right)}}} X^{2}{\\left(r \\right)}}$"
     },
     "execution_count": 26,
     "metadata": {},
     "output_type": "execute_result"
    }
   ],
   "source": [
    "sols = smp.solve(H,Y)\n",
    "\n",
    "sols[0]"
   ],
   "metadata": {
    "collapsed": false,
    "pycharm": {
     "name": "#%%\n"
    }
   }
  }
 ],
 "metadata": {
  "kernelspec": {
   "display_name": "Python 3",
   "language": "python",
   "name": "python3"
  },
  "language_info": {
   "codemirror_mode": {
    "name": "ipython",
    "version": 2
   },
   "file_extension": ".py",
   "mimetype": "text/x-python",
   "name": "python",
   "nbconvert_exporter": "python",
   "pygments_lexer": "ipython2",
   "version": "2.7.6"
  }
 },
 "nbformat": 4,
 "nbformat_minor": 0
}