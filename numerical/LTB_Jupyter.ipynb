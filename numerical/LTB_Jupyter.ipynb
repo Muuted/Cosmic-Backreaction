{
 "cells": [
  {
   "cell_type": "code",
   "execution_count": 71,
   "metadata": {},
   "outputs": [],
   "source": [
    "import sympy as smp\n",
    "import numpy as np\n",
    "\n",
    "r,t,r_b,G,c,rho,a_i,H_i,n,m, A,rho_c0  = smp.symbols('r t r_b G c rho a_i H_i n m A rho_c0')\n",
    "\n",
    "R = smp.Function('R')(t,r)\n",
    "E = smp.Function('E')(r)\n",
    "M = smp.Function('M')(r)\n",
    "rho = smp.Function('rho')(t,r)\n",
    "dRdr = smp.diff(R,r)\n",
    "dMdr = smp.diff(M,r)"
   ]
  },
  {
   "cell_type": "code",
   "execution_count": 72,
   "metadata": {},
   "outputs": [
    {
     "data": {
      "text/latex": [
       "$\\displaystyle \\frac{\\frac{d}{d r} M{\\left(r \\right)}}{4 \\pi R^{2}{\\left(t,r \\right)} \\frac{\\partial}{\\partial r} R{\\left(t,r \\right)}}$"
      ],
      "text/plain": [
       "Derivative(M(r), r)/(4*pi*R(t, r)**2*Derivative(R(t, r), r))"
      ]
     },
     "execution_count": 72,
     "metadata": {},
     "output_type": "execute_result"
    }
   ],
   "source": [
    "rho = 1/(4*smp.pi)*(dMdr)/(R**2*dRdr)\n",
    "rho"
   ]
  },
  {
   "cell_type": "code",
   "execution_count": null,
   "metadata": {},
   "outputs": [],
   "source": []
  },
  {
   "cell_type": "markdown",
   "metadata": {},
   "source": [
    "Now we want to define the derivative for t"
   ]
  },
  {
   "cell_type": "code",
   "execution_count": 73,
   "metadata": {},
   "outputs": [
    {
     "data": {
      "text/latex": [
       "$\\displaystyle c \\sqrt{2 E{\\left(r \\right)} + \\frac{2 M{\\left(r \\right)}}{R{\\left(t,r \\right)}}}$"
      ],
      "text/plain": [
       "c*sqrt(2*E(r) + 2*M(r)/R(t, r))"
      ]
     },
     "execution_count": 73,
     "metadata": {},
     "output_type": "execute_result"
    }
   ],
   "source": [
    "dRdt = c*smp.sqrt(\n",
    "    #(2*G*M)/(c**2*R) + 2*E\n",
    "    2*M/R + 2*E\n",
    ")\n",
    "dRdt"
   ]
  },
  {
   "cell_type": "code",
   "execution_count": 74,
   "metadata": {},
   "outputs": [
    {
     "data": {
      "text/latex": [
       "$\\displaystyle \\frac{c \\left(- \\frac{M{\\left(r \\right)} \\frac{\\partial}{\\partial r} R{\\left(t,r \\right)}}{R^{2}{\\left(t,r \\right)}} + \\frac{d}{d r} E{\\left(r \\right)} + \\frac{\\frac{d}{d r} M{\\left(r \\right)}}{R{\\left(t,r \\right)}}\\right)}{\\sqrt{2 E{\\left(r \\right)} + \\frac{2 M{\\left(r \\right)}}{R{\\left(t,r \\right)}}}}$"
      ],
      "text/plain": [
       "c*(-M(r)*Derivative(R(t, r), r)/R(t, r)**2 + Derivative(E(r), r) + Derivative(M(r), r)/R(t, r))/sqrt(2*E(r) + 2*M(r)/R(t, r))"
      ]
     },
     "execution_count": 74,
     "metadata": {},
     "output_type": "execute_result"
    }
   ],
   "source": [
    "dRdtdr = smp.diff(dRdt,r)\n",
    "dRdtdr"
   ]
  },
  {
   "cell_type": "code",
   "execution_count": 75,
   "metadata": {},
   "outputs": [
    {
     "data": {
      "text/latex": [
       "$\\displaystyle E{\\left(r \\right)}$"
      ],
      "text/plain": [
       "E(r)"
      ]
     },
     "execution_count": 75,
     "metadata": {},
     "output_type": "execute_result"
    }
   ],
   "source": [
    "#E =  A*r**2*((r/r_b)**n - 1)**m\n",
    "E"
   ]
  },
  {
   "cell_type": "code",
   "execution_count": 76,
   "metadata": {},
   "outputs": [
    {
     "data": {
      "text/latex": [
       "$\\displaystyle \\frac{d}{d r} E{\\left(r \\right)}$"
      ],
      "text/plain": [
       "Derivative(E(r), r)"
      ]
     },
     "execution_count": 76,
     "metadata": {},
     "output_type": "execute_result"
    }
   ],
   "source": [
    "dEdr = smp.diff(E,r)\n",
    "dEdr"
   ]
  },
  {
   "cell_type": "code",
   "execution_count": 77,
   "metadata": {},
   "outputs": [
    {
     "data": {
      "text/latex": [
       "$\\displaystyle \\frac{4 \\pi G r^{3} \\rho_{c0} \\left(1 - \\frac{6 c^{2} E{\\left(r \\right)}}{5 H_{i}^{2} a_{i}^{2} r^{2}}\\right)}{3 c^{2}}$"
      ],
      "text/plain": [
       "4*pi*G*r**3*rho_c0*(1 - 6*c**2*E(r)/(5*H_i**2*a_i**2*r**2))/(3*c**2)"
      ]
     },
     "execution_count": 77,
     "metadata": {},
     "output_type": "execute_result"
    }
   ],
   "source": [
    "M = (4*smp.pi*rho_c0*G*r**3)/(3*c**2)*(1- (6*c**2*E)/(5*(a_i*H_i*r)**2))\n",
    "M"
   ]
  },
  {
   "cell_type": "code",
   "execution_count": 78,
   "metadata": {},
   "outputs": [
    {
     "data": {
      "text/latex": [
       "$\\displaystyle E{\\left(r \\right)}$"
      ],
      "text/plain": [
       "E(r)"
      ]
     },
     "execution_count": 78,
     "metadata": {},
     "output_type": "execute_result"
    }
   ],
   "source": [
    "E"
   ]
  },
  {
   "cell_type": "code",
   "execution_count": 79,
   "metadata": {},
   "outputs": [
    {
     "data": {
      "text/latex": [
       "$\\displaystyle \\frac{4 \\pi G \\rho_{c0} \\left(5 H_{i}^{2} a_{i}^{2} r^{2} - 2 c^{2} r \\frac{d}{d r} E{\\left(r \\right)} - 2 c^{2} E{\\left(r \\right)}\\right)}{5 H_{i}^{2} a_{i}^{2} c^{2}}$"
      ],
      "text/plain": [
       "4*pi*G*rho_c0*(5*H_i**2*a_i**2*r**2 - 2*c**2*r*Derivative(E(r), r) - 2*c**2*E(r))/(5*H_i**2*a_i**2*c**2)"
      ]
     },
     "execution_count": 79,
     "metadata": {},
     "output_type": "execute_result"
    }
   ],
   "source": [
    "dMdr = smp.diff(M,r)\n",
    "dMdr.simplify()"
   ]
  },
  {
   "cell_type": "code",
   "execution_count": 80,
   "metadata": {},
   "outputs": [
    {
     "data": {
      "text/latex": [
       "$\\displaystyle \\frac{\\rho_{c0} \\left(5 H_{i}^{2} a_{i}^{2} r^{2} - 2 c^{2} r \\frac{d}{d r} E{\\left(r \\right)} - 2 c^{2} E{\\left(r \\right)}\\right)}{5 H_{i}^{2} a_{i}^{2} R^{2}{\\left(t,r \\right)} \\frac{\\partial}{\\partial r} R{\\left(t,r \\right)}}$"
      ],
      "text/plain": [
       "rho_c0*(5*H_i**2*a_i**2*r**2 - 2*c**2*r*Derivative(E(r), r) - 2*c**2*E(r))/(5*H_i**2*a_i**2*R(t, r)**2*Derivative(R(t, r), r))"
      ]
     },
     "execution_count": 80,
     "metadata": {},
     "output_type": "execute_result"
    }
   ],
   "source": [
    "rho = (c**2/(4*smp.pi*G))*(dMdr/(R**2*dRdr))\n",
    "rho.simplify()"
   ]
  }
 ],
 "metadata": {
  "interpreter": {
   "hash": "0eaa6b6338fdbff1a948f9cfefd22d17a5eeaefdfc80a3e60cfb623f787efecf"
  },
  "kernelspec": {
   "display_name": "Python 3.8.1 ('venv': venv)",
   "language": "python",
   "name": "python3"
  },
  "language_info": {
   "codemirror_mode": {
    "name": "ipython",
    "version": 3
   },
   "file_extension": ".py",
   "mimetype": "text/x-python",
   "name": "python",
   "nbconvert_exporter": "python",
   "pygments_lexer": "ipython3",
   "version": "3.8.1"
  },
  "orig_nbformat": 4
 },
 "nbformat": 4,
 "nbformat_minor": 2
}
