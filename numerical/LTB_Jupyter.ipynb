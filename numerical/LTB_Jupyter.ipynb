{
 "cells": [
  {
   "cell_type": "code",
   "execution_count": 82,
   "metadata": {},
   "outputs": [],
   "source": [
    "import sympy as smp\n",
    "import numpy as np\n",
    "\n",
    "r,t,r_b,G,c,rho,a_i,H_i,n,m, A,rho_c0  = smp.symbols('r t r_b G c rho a_i H_i n m A rho_c0')\n",
    "\n",
    "R = smp.Function('R')(t,r)\n",
    "E = smp.Function('E')(r)\n",
    "M = smp.Function('M')(r)\n",
    "rho = smp.Function('rho')(t,r)\n"
   ]
  },
  {
   "cell_type": "code",
   "execution_count": 83,
   "metadata": {},
   "outputs": [
    {
     "data": {
      "text/latex": [
       "$\\displaystyle \\sqrt{\\frac{2 G M{\\left(r \\right)}}{c^{2} R{\\left(t,r \\right)}} + 2 E{\\left(r \\right)}}$"
      ],
      "text/plain": [
       "sqrt(2*G*M(r)/(c**2*R(t, r)) + 2*E(r))"
      ]
     },
     "execution_count": 83,
     "metadata": {},
     "output_type": "execute_result"
    }
   ],
   "source": [
    "dRdt = smp.sqrt(\n",
    "    (2*G*M)/(c**2*R) + 2*E\n",
    ")\n",
    "dRdt"
   ]
  },
  {
   "cell_type": "code",
   "execution_count": 84,
   "metadata": {},
   "outputs": [
    {
     "data": {
      "text/latex": [
       "$\\displaystyle \\frac{- \\frac{G M{\\left(r \\right)} \\frac{\\partial}{\\partial r} R{\\left(t,r \\right)}}{c^{2} R^{2}{\\left(t,r \\right)}} + \\frac{G \\frac{d}{d r} M{\\left(r \\right)}}{c^{2} R{\\left(t,r \\right)}} + \\frac{d}{d r} E{\\left(r \\right)}}{\\sqrt{\\frac{2 G M{\\left(r \\right)}}{c^{2} R{\\left(t,r \\right)}} + 2 E{\\left(r \\right)}}}$"
      ],
      "text/plain": [
       "(-G*M(r)*Derivative(R(t, r), r)/(c**2*R(t, r)**2) + G*Derivative(M(r), r)/(c**2*R(t, r)) + Derivative(E(r), r))/sqrt(2*G*M(r)/(c**2*R(t, r)) + 2*E(r))"
      ]
     },
     "execution_count": 84,
     "metadata": {},
     "output_type": "execute_result"
    }
   ],
   "source": [
    "dRdtdr = smp.diff(dRdt,r)\n",
    "dRdtdr"
   ]
  },
  {
   "cell_type": "code",
   "execution_count": 85,
   "metadata": {},
   "outputs": [
    {
     "data": {
      "text/latex": [
       "$\\displaystyle \\frac{\\sqrt{2} \\left(\\int \\frac{c^{2} \\frac{d}{d r} E{\\left(r \\right)}}{\\sqrt{\\frac{G M{\\left(r \\right)}}{c^{2} R{\\left(t,r \\right)}} + E{\\left(r \\right)}}}\\, dt + \\int \\frac{G \\frac{d}{d r} M{\\left(r \\right)}}{\\sqrt{\\frac{G M{\\left(r \\right)}}{c^{2} R{\\left(t,r \\right)}} + E{\\left(r \\right)}} R{\\left(t,r \\right)}}\\, dt + \\int \\left(- \\frac{G M{\\left(r \\right)} \\frac{\\partial}{\\partial r} R{\\left(t,r \\right)}}{\\sqrt{\\frac{G M{\\left(r \\right)}}{c^{2} R{\\left(t,r \\right)}} + E{\\left(r \\right)}} R^{2}{\\left(t,r \\right)}}\\right)\\, dt\\right)}{2 c^{2}}$"
      ],
      "text/plain": [
       "sqrt(2)*(Integral(c**2*Derivative(E(r), r)/sqrt(G*M(r)/(c**2*R(t, r)) + E(r)), t) + Integral(G*Derivative(M(r), r)/(sqrt(G*M(r)/(c**2*R(t, r)) + E(r))*R(t, r)), t) + Integral(-G*M(r)*Derivative(R(t, r), r)/(sqrt(G*M(r)/(c**2*R(t, r)) + E(r))*R(t, r)**2), t))/(2*c**2)"
      ]
     },
     "execution_count": 85,
     "metadata": {},
     "output_type": "execute_result"
    }
   ],
   "source": [
    "dRdr = smp.integrate(dRdtdr,t)\n",
    "dRdr"
   ]
  },
  {
   "cell_type": "code",
   "execution_count": 86,
   "metadata": {},
   "outputs": [
    {
     "data": {
      "text/latex": [
       "$\\displaystyle A r^{2} \\left(\\left(\\frac{r}{r_{b}}\\right)^{n} - 1\\right)^{m}$"
      ],
      "text/plain": [
       "A*r**2*((r/r_b)**n - 1)**m"
      ]
     },
     "execution_count": 86,
     "metadata": {},
     "output_type": "execute_result"
    }
   ],
   "source": [
    "E =  A*r**2*((r/r_b)**n - 1)**m\n",
    "E"
   ]
  },
  {
   "cell_type": "code",
   "execution_count": 87,
   "metadata": {},
   "outputs": [
    {
     "data": {
      "text/latex": [
       "$\\displaystyle \\frac{A m n r \\left(\\frac{r}{r_{b}}\\right)^{n} \\left(\\left(\\frac{r}{r_{b}}\\right)^{n} - 1\\right)^{m}}{\\left(\\frac{r}{r_{b}}\\right)^{n} - 1} + 2 A r \\left(\\left(\\frac{r}{r_{b}}\\right)^{n} - 1\\right)^{m}$"
      ],
      "text/plain": [
       "A*m*n*r*(r/r_b)**n*((r/r_b)**n - 1)**m/((r/r_b)**n - 1) + 2*A*r*((r/r_b)**n - 1)**m"
      ]
     },
     "execution_count": 87,
     "metadata": {},
     "output_type": "execute_result"
    }
   ],
   "source": [
    "dEdr = smp.diff(E,r)\n",
    "dEdr"
   ]
  },
  {
   "cell_type": "code",
   "execution_count": 88,
   "metadata": {},
   "outputs": [
    {
     "data": {
      "text/latex": [
       "$\\displaystyle \\frac{A m^{2} n^{2} \\left(\\frac{r}{r_{b}}\\right)^{2 n} \\left(\\left(\\frac{r}{r_{b}}\\right)^{n} - 1\\right)^{m}}{\\left(\\left(\\frac{r}{r_{b}}\\right)^{n} - 1\\right)^{2}} - \\frac{A m n^{2} \\left(\\frac{r}{r_{b}}\\right)^{2 n} \\left(\\left(\\frac{r}{r_{b}}\\right)^{n} - 1\\right)^{m}}{\\left(\\left(\\frac{r}{r_{b}}\\right)^{n} - 1\\right)^{2}} + \\frac{A m n^{2} \\left(\\frac{r}{r_{b}}\\right)^{n} \\left(\\left(\\frac{r}{r_{b}}\\right)^{n} - 1\\right)^{m}}{\\left(\\frac{r}{r_{b}}\\right)^{n} - 1} + \\frac{3 A m n \\left(\\frac{r}{r_{b}}\\right)^{n} \\left(\\left(\\frac{r}{r_{b}}\\right)^{n} - 1\\right)^{m}}{\\left(\\frac{r}{r_{b}}\\right)^{n} - 1} + 2 A \\left(\\left(\\frac{r}{r_{b}}\\right)^{n} - 1\\right)^{m}$"
      ],
      "text/plain": [
       "A*m**2*n**2*(r/r_b)**(2*n)*((r/r_b)**n - 1)**m/((r/r_b)**n - 1)**2 - A*m*n**2*(r/r_b)**(2*n)*((r/r_b)**n - 1)**m/((r/r_b)**n - 1)**2 + A*m*n**2*(r/r_b)**n*((r/r_b)**n - 1)**m/((r/r_b)**n - 1) + 3*A*m*n*(r/r_b)**n*((r/r_b)**n - 1)**m/((r/r_b)**n - 1) + 2*A*((r/r_b)**n - 1)**m"
      ]
     },
     "execution_count": 88,
     "metadata": {},
     "output_type": "execute_result"
    }
   ],
   "source": [
    "dEdrdr = smp.diff(dEdr,r)\n",
    "dEdrdr"
   ]
  },
  {
   "cell_type": "code",
   "execution_count": 89,
   "metadata": {},
   "outputs": [
    {
     "data": {
      "text/latex": [
       "$\\displaystyle \\frac{4 \\pi r^{3} \\rho_{c0} \\left(- \\frac{6 A \\left(\\left(\\frac{r}{r_{b}}\\right)^{n} - 1\\right)^{m}}{25 H_{i}^{2} a_{i}^{2}} + 1\\right)}{3}$"
      ],
      "text/plain": [
       "4*pi*r**3*rho_c0*(-6*A*((r/r_b)**n - 1)**m/(25*H_i**2*a_i**2) + 1)/3"
      ]
     },
     "execution_count": 89,
     "metadata": {},
     "output_type": "execute_result"
    }
   ],
   "source": [
    "M = (4*smp.pi*rho_c0*r**3)/(3)*(1- (6*E)/(5*a_i*H_i*r)**2)\n",
    "M"
   ]
  },
  {
   "cell_type": "code",
   "execution_count": 90,
   "metadata": {},
   "outputs": [
    {
     "data": {
      "text/latex": [
       "$\\displaystyle - \\frac{8 \\pi A m n r^{2} \\rho_{c0} \\left(\\frac{r}{r_{b}}\\right)^{n} \\left(\\left(\\frac{r}{r_{b}}\\right)^{n} - 1\\right)^{m}}{25 H_{i}^{2} a_{i}^{2} \\left(\\left(\\frac{r}{r_{b}}\\right)^{n} - 1\\right)} + 4 \\pi r^{2} \\rho_{c0} \\left(- \\frac{6 A \\left(\\left(\\frac{r}{r_{b}}\\right)^{n} - 1\\right)^{m}}{25 H_{i}^{2} a_{i}^{2}} + 1\\right)$"
      ],
      "text/plain": [
       "-8*pi*A*m*n*r**2*rho_c0*(r/r_b)**n*((r/r_b)**n - 1)**m/(25*H_i**2*a_i**2*((r/r_b)**n - 1)) + 4*pi*r**2*rho_c0*(-6*A*((r/r_b)**n - 1)**m/(25*H_i**2*a_i**2) + 1)"
      ]
     },
     "execution_count": 90,
     "metadata": {},
     "output_type": "execute_result"
    }
   ],
   "source": [
    "dMdr = smp.diff(M,r)\n",
    "dMdr"
   ]
  },
  {
   "cell_type": "code",
   "execution_count": 91,
   "metadata": {},
   "outputs": [],
   "source": [
    "rho = (1/(4*smp.pi))*(dMdr/(R**2*dRdr))"
   ]
  }
 ],
 "metadata": {
  "interpreter": {
   "hash": "0eaa6b6338fdbff1a948f9cfefd22d17a5eeaefdfc80a3e60cfb623f787efecf"
  },
  "kernelspec": {
   "display_name": "Python 3.8.1 ('venv': venv)",
   "language": "python",
   "name": "python3"
  },
  "language_info": {
   "codemirror_mode": {
    "name": "ipython",
    "version": 3
   },
   "file_extension": ".py",
   "mimetype": "text/x-python",
   "name": "python",
   "nbconvert_exporter": "python",
   "pygments_lexer": "ipython3",
   "version": "3.8.1"
  },
  "orig_nbformat": 4
 },
 "nbformat": 4,
 "nbformat_minor": 2
}
