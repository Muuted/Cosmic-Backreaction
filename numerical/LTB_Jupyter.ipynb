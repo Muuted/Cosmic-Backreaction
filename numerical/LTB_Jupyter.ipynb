{
 "cells": [
  {
   "cell_type": "code",
   "execution_count": 1,
   "metadata": {},
   "outputs": [],
   "source": [
    "import sympy as smp\n",
    "import numpy as np\n",
    "\n",
    "r,t,r_b,G,c,rho,a_i,H_i,n,m, A,rho_c0  = smp.symbols('r t r_b G c rho a_i H_i n m A rho_c0')\n",
    "\n",
    "R = smp.Function('R')(t,r)\n",
    "E = smp.Function('E')(r)\n",
    "M = smp.Function('M')(r)\n",
    "rho = smp.Function('rho')(t,r)\n",
    "dRdr = smp.diff(R,r)\n",
    "dMdr = smp.diff(M,r)"
   ]
  },
  {
   "cell_type": "code",
   "execution_count": 2,
   "metadata": {},
   "outputs": [
    {
     "data": {
      "text/latex": [
       "$\\displaystyle \\frac{\\frac{d}{d r} M{\\left(r \\right)}}{4 \\pi R^{2}{\\left(t,r \\right)} \\frac{\\partial}{\\partial r} R{\\left(t,r \\right)}}$"
      ],
      "text/plain": [
       "Derivative(M(r), r)/(4*pi*R(t, r)**2*Derivative(R(t, r), r))"
      ]
     },
     "execution_count": 2,
     "metadata": {},
     "output_type": "execute_result"
    }
   ],
   "source": [
    "rho = 1/(4*smp.pi)*(dMdr)/(R**2*dRdr)\n",
    "rho"
   ]
  },
  {
   "cell_type": "code",
   "execution_count": null,
   "metadata": {},
   "outputs": [],
   "source": []
  },
  {
   "cell_type": "markdown",
   "metadata": {},
   "source": [
    "Now we want to define the derivative for t"
   ]
  },
  {
   "cell_type": "code",
   "execution_count": 3,
   "metadata": {},
   "outputs": [
    {
     "data": {
      "text/latex": [
       "$\\displaystyle \\sqrt{\\frac{2 G M{\\left(r \\right)}}{c^{2} R{\\left(t,r \\right)}} + 2 E{\\left(r \\right)}}$"
      ],
      "text/plain": [
       "sqrt(2*G*M(r)/(c**2*R(t, r)) + 2*E(r))"
      ]
     },
     "execution_count": 3,
     "metadata": {},
     "output_type": "execute_result"
    }
   ],
   "source": [
    "dRdt = smp.sqrt(\n",
    "    (2*G*M)/(c**2*R) + 2*E\n",
    ")\n",
    "dRdt"
   ]
  },
  {
   "cell_type": "code",
   "execution_count": 4,
   "metadata": {},
   "outputs": [
    {
     "data": {
      "text/latex": [
       "$\\displaystyle \\frac{- \\frac{G M{\\left(r \\right)} \\frac{\\partial}{\\partial r} R{\\left(t,r \\right)}}{c^{2} R^{2}{\\left(t,r \\right)}} + \\frac{G \\frac{d}{d r} M{\\left(r \\right)}}{c^{2} R{\\left(t,r \\right)}} + \\frac{d}{d r} E{\\left(r \\right)}}{\\sqrt{\\frac{2 G M{\\left(r \\right)}}{c^{2} R{\\left(t,r \\right)}} + 2 E{\\left(r \\right)}}}$"
      ],
      "text/plain": [
       "(-G*M(r)*Derivative(R(t, r), r)/(c**2*R(t, r)**2) + G*Derivative(M(r), r)/(c**2*R(t, r)) + Derivative(E(r), r))/sqrt(2*G*M(r)/(c**2*R(t, r)) + 2*E(r))"
      ]
     },
     "execution_count": 4,
     "metadata": {},
     "output_type": "execute_result"
    }
   ],
   "source": [
    "dRdtdr = smp.diff(dRdt,r)\n",
    "dRdtdr"
   ]
  },
  {
   "cell_type": "code",
   "execution_count": 5,
   "metadata": {},
   "outputs": [
    {
     "data": {
      "text/latex": [
       "$\\displaystyle A r^{2} \\left(\\left(\\frac{r}{r_{b}}\\right)^{n} - 1\\right)^{m}$"
      ],
      "text/plain": [
       "A*r**2*((r/r_b)**n - 1)**m"
      ]
     },
     "execution_count": 5,
     "metadata": {},
     "output_type": "execute_result"
    }
   ],
   "source": [
    "E =  A*r**2*((r/r_b)**n - 1)**m\n",
    "E"
   ]
  },
  {
   "cell_type": "code",
   "execution_count": 6,
   "metadata": {},
   "outputs": [
    {
     "data": {
      "text/latex": [
       "$\\displaystyle \\frac{A m n r \\left(\\frac{r}{r_{b}}\\right)^{n} \\left(\\left(\\frac{r}{r_{b}}\\right)^{n} - 1\\right)^{m}}{\\left(\\frac{r}{r_{b}}\\right)^{n} - 1} + 2 A r \\left(\\left(\\frac{r}{r_{b}}\\right)^{n} - 1\\right)^{m}$"
      ],
      "text/plain": [
       "A*m*n*r*(r/r_b)**n*((r/r_b)**n - 1)**m/((r/r_b)**n - 1) + 2*A*r*((r/r_b)**n - 1)**m"
      ]
     },
     "execution_count": 6,
     "metadata": {},
     "output_type": "execute_result"
    }
   ],
   "source": [
    "dEdr = smp.diff(E,r)\n",
    "dEdr"
   ]
  },
  {
   "cell_type": "code",
   "execution_count": 7,
   "metadata": {},
   "outputs": [
    {
     "data": {
      "text/latex": [
       "$\\displaystyle \\frac{4 \\pi r^{3} \\rho_{c0} \\left(- \\frac{6 A \\left(\\left(\\frac{r}{r_{b}}\\right)^{n} - 1\\right)^{m}}{5 H_{i}^{2} a_{i}^{2}} + 1\\right)}{3}$"
      ],
      "text/plain": [
       "4*pi*r**3*rho_c0*(-6*A*((r/r_b)**n - 1)**m/(5*H_i**2*a_i**2) + 1)/3"
      ]
     },
     "execution_count": 7,
     "metadata": {},
     "output_type": "execute_result"
    }
   ],
   "source": [
    "M = (4*smp.pi*rho_c0*r**3)/(3)*(1- (6*E)/(5*(a_i*H_i*r)**2))\n",
    "M"
   ]
  },
  {
   "cell_type": "code",
   "execution_count": 8,
   "metadata": {},
   "outputs": [
    {
     "data": {
      "text/latex": [
       "$\\displaystyle - \\frac{4 \\pi r^{2} \\rho_{c0} \\left(2 A m n \\left(\\frac{r}{r_{b}}\\right)^{n} \\left(\\left(\\frac{r}{r_{b}}\\right)^{n} - 1\\right)^{m} + \\left(6 A \\left(\\left(\\frac{r}{r_{b}}\\right)^{n} - 1\\right)^{m} - 5 H_{i}^{2} a_{i}^{2}\\right) \\left(\\left(\\frac{r}{r_{b}}\\right)^{n} - 1\\right)\\right)}{5 H_{i}^{2} a_{i}^{2} \\left(\\left(\\frac{r}{r_{b}}\\right)^{n} - 1\\right)}$"
      ],
      "text/plain": [
       "-4*pi*r**2*rho_c0*(2*A*m*n*(r/r_b)**n*((r/r_b)**n - 1)**m + (6*A*((r/r_b)**n - 1)**m - 5*H_i**2*a_i**2)*((r/r_b)**n - 1))/(5*H_i**2*a_i**2*((r/r_b)**n - 1))"
      ]
     },
     "execution_count": 8,
     "metadata": {},
     "output_type": "execute_result"
    }
   ],
   "source": [
    "dMdr = smp.diff(M,r)\n",
    "dMdr.simplify()"
   ]
  },
  {
   "cell_type": "code",
   "execution_count": 9,
   "metadata": {},
   "outputs": [
    {
     "data": {
      "text/latex": [
       "$\\displaystyle - \\frac{r^{2} \\rho_{c0} \\left(2 A m n \\left(\\frac{r}{r_{b}}\\right)^{n} \\left(\\left(\\frac{r}{r_{b}}\\right)^{n} - 1\\right)^{m} + \\left(6 A \\left(\\left(\\frac{r}{r_{b}}\\right)^{n} - 1\\right)^{m} - 5 H_{i}^{2} a_{i}^{2}\\right) \\left(\\left(\\frac{r}{r_{b}}\\right)^{n} - 1\\right)\\right)}{5 H_{i}^{2} a_{i}^{2} \\left(\\left(\\frac{r}{r_{b}}\\right)^{n} - 1\\right) R^{2}{\\left(t,r \\right)} \\frac{\\partial}{\\partial r} R{\\left(t,r \\right)}}$"
      ],
      "text/plain": [
       "-r**2*rho_c0*(2*A*m*n*(r/r_b)**n*((r/r_b)**n - 1)**m + (6*A*((r/r_b)**n - 1)**m - 5*H_i**2*a_i**2)*((r/r_b)**n - 1))/(5*H_i**2*a_i**2*((r/r_b)**n - 1)*R(t, r)**2*Derivative(R(t, r), r))"
      ]
     },
     "execution_count": 9,
     "metadata": {},
     "output_type": "execute_result"
    }
   ],
   "source": [
    "rho = (1/(4*smp.pi))*(dMdr/(R**2*dRdr))\n",
    "rho.simplify()"
   ]
  }
 ],
 "metadata": {
  "interpreter": {
   "hash": "0eaa6b6338fdbff1a948f9cfefd22d17a5eeaefdfc80a3e60cfb623f787efecf"
  },
  "kernelspec": {
   "display_name": "Python 3.8.1 ('venv': venv)",
   "language": "python",
   "name": "python3"
  },
  "language_info": {
   "codemirror_mode": {
    "name": "ipython",
    "version": 3
   },
   "file_extension": ".py",
   "mimetype": "text/x-python",
   "name": "python",
   "nbconvert_exporter": "python",
   "pygments_lexer": "ipython3",
   "version": "3.8.1"
  },
  "orig_nbformat": 4
 },
 "nbformat": 4,
 "nbformat_minor": 2
}
