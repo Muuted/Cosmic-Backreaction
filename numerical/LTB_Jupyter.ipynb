{
 "cells": [
  {
   "cell_type": "code",
   "execution_count": 3,
   "metadata": {},
   "outputs": [
    {
     "ename": "ModuleNotFoundError",
     "evalue": "No module named 'sympy'",
     "output_type": "error",
     "traceback": [
      "\u001b[1;31m---------------------------------------------------------------------------\u001b[0m",
      "\u001b[1;31mModuleNotFoundError\u001b[0m                       Traceback (most recent call last)",
      "\u001b[1;32mc:\\Users\\Bruger\\Documents\\GitHub\\Cosmic-Backreaction\\numerical\\LTB_Jupyter.ipynb Cell 1'\u001b[0m in \u001b[0;36m<cell line: 1>\u001b[1;34m()\u001b[0m\n\u001b[1;32m----> <a href='vscode-notebook-cell:/c%3A/Users/Bruger/Documents/GitHub/Cosmic-Backreaction/numerical/LTB_Jupyter.ipynb#ch0000000?line=0'>1</a>\u001b[0m \u001b[39mimport\u001b[39;00m \u001b[39msympy\u001b[39;00m \u001b[39mas\u001b[39;00m \u001b[39msmp\u001b[39;00m\n\u001b[0;32m      <a href='vscode-notebook-cell:/c%3A/Users/Bruger/Documents/GitHub/Cosmic-Backreaction/numerical/LTB_Jupyter.ipynb#ch0000000?line=2'>3</a>\u001b[0m r,G,c,rho,a_i,H_i \u001b[39m=\u001b[39m smp\u001b[39m.\u001b[39msymbols(\u001b[39m'\u001b[39m\u001b[39mr G c rho a_i H_i\u001b[39m\u001b[39m'\u001b[39m)\n\u001b[0;32m      <a href='vscode-notebook-cell:/c%3A/Users/Bruger/Documents/GitHub/Cosmic-Backreaction/numerical/LTB_Jupyter.ipynb#ch0000000?line=3'>4</a>\u001b[0m R \u001b[39m=\u001b[39m smp\u001b[39m.\u001b[39mFunction(\u001b[39m'\u001b[39m\u001b[39mF\u001b[39m\u001b[39m'\u001b[39m)(t,r)\n",
      "\u001b[1;31mModuleNotFoundError\u001b[0m: No module named 'sympy'"
     ]
    }
   ],
   "source": [
    "\n",
    "import sympy as smp\n",
    "\n",
    "r,G,c,rho,a_i,H_i = smp.symbols('r G c rho a_i H_i')\n",
    "R = smp.Function('F')(t,r)\n"
   ]
  }
 ],
 "metadata": {
  "interpreter": {
   "hash": "09da67d289bed5ff921399abd660e4c06ebfba69bed86e1cf49e11194c46452e"
  },
  "kernelspec": {
   "display_name": "Python 3.10.1 64-bit",
   "language": "python",
   "name": "python3"
  },
  "language_info": {
   "codemirror_mode": {
    "name": "ipython",
    "version": 3
   },
   "file_extension": ".py",
   "mimetype": "text/x-python",
   "name": "python",
   "nbconvert_exporter": "python",
   "pygments_lexer": "ipython3",
   "version": "3.10.1"
  },
  "orig_nbformat": 4
 },
 "nbformat": 4,
 "nbformat_minor": 2
}
